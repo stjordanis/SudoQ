{
 "cells": [
  {
   "cell_type": "code",
   "execution_count": 1,
   "metadata": {
    "collapsed": true
   },
   "outputs": [],
   "source": [
    "import numpy as np\n",
    "#from dwave_qbsolv import QBSolv\n",
    "import seaborn as sns\n",
    "sns.set_style(\"dark\")\n",
    "%matplotlib inline\n",
    "\n",
    "#path = 'D:/P.N.I.A/Project - Paper Ideas/Projects/Full Blown Projects/SudoQ/'\n",
    "path = 'C:/Users/Ayush/PNIA Codes/PS Time Codes/'\n",
    "inf = 100"
   ]
  },
  {
   "cell_type": "code",
   "execution_count": 2,
   "metadata": {
    "collapsed": true
   },
   "outputs": [],
   "source": [
    "# For uniquely identifying a qubit number from (x,y,z)\n",
    "\n",
    "def unique_id(x, y, z ):\n",
    "    x = np.asarray(x)\n",
    "    y = np.asarray(y)\n",
    "    z = np.asarray(z)\n",
    "    ids = z + 8*((9*y) + x)\n",
    "    \n",
    "    return np.asarray(ids, dtype=np.int16)\n"
   ]
  },
  {
   "cell_type": "code",
   "execution_count": 3,
   "metadata": {
    "collapsed": true
   },
   "outputs": [],
   "source": [
    "# For uniquely identifying (x,y,z) from qubit unique_id\n",
    "\n",
    "def xyz_from_id(ids, as_tuple = False):\n",
    "    ids = np.asarray(ids)\n",
    "    z = np.remainder(ids, 8)\n",
    "    ids = np.subtract(ids, z)\n",
    "    ids = np.divide(ids, 8)\n",
    "    x = np.remainder(ids, 9)\n",
    "    ids = np.subtract(ids, x)\n",
    "    y = np.divide(ids, 9)\n",
    "    \n",
    "    if as_tuple:\n",
    "        return (x, y, z)\n",
    "    else:\n",
    "        return x, y, z"
   ]
  },
  {
   "cell_type": "code",
   "execution_count": 4,
   "metadata": {
    "collapsed": true
   },
   "outputs": [],
   "source": [
    "# For adding values to the QUBO Matrix\n",
    "\n",
    "def Q_add(Q, ids1, ids2, add_value ):\n",
    "    Q = np.asarray(Q)\n",
    "    ids1 = np.asarray(ids1)\n",
    "    ids2 = np.asarray(ids2)\n",
    "    Q_added = np.zeros((648,648), dtype = np.int32)\n",
    "    try:\n",
    "        for _ in range(len(ids1)):\n",
    "            Q_added[ids1[_] ][ids2[_] ] = add_value\n",
    "        np.add(Q, Q_added, out = Q)\n",
    "    except TypeError:\n",
    "        Q_added[ids1][ids2] = add_value\n",
    "        np.add(Q, Q_added, out = Q)\n",
    "    return Q\n"
   ]
  },
  {
   "cell_type": "code",
   "execution_count": 5,
   "metadata": {
    "collapsed": true
   },
   "outputs": [],
   "source": [
    "# Checking if QUBO Matrix 'Q' still is an upper triangular matrix\n",
    "\n",
    "def upper_triangular_check(Q):\n",
    "    number_qubits = np.shape(Q)[0]\n",
    "    for __ in range(number_qubits):\n",
    "        for _ in range(__):\n",
    "            if Q[__][_] != 0 or Q[__][_] != 0.0:\n",
    "                print(\"Q is an upper triangular matrix: False\")\n",
    "                return\n",
    "    print(\"Q is an upper triangular matrix: True\")\n",
    "    "
   ]
  },
  {
   "cell_type": "code",
   "execution_count": 6,
   "metadata": {
    "collapsed": true
   },
   "outputs": [],
   "source": [
    "# Evaluate the QUBO Q Matrix\n",
    "\n",
    "def evaluate(Q):\n",
    "    print(\"The summation of QUBO Q Matrix elements is: \" , np.sum(Q)); print()\n",
    "    print(\"The QUBO Matrix: \"); print(Q); print()\n",
    "    upper_triangular_check(Q); print()\n",
    "    sns.heatmap(data = Q)"
   ]
  },
  {
   "cell_type": "code",
   "execution_count": 7,
   "metadata": {
    "collapsed": true
   },
   "outputs": [],
   "source": [
    "# Extract solution from qbsolv returned qubit values\n",
    "\n",
    "def extract_solution(solution):\n",
    "    solution()"
   ]
  },
  {
   "cell_type": "code",
   "execution_count": null,
   "metadata": {
    "collapsed": true
   },
   "outputs": [],
   "source": []
  },
  {
   "cell_type": "code",
   "execution_count": 8,
   "metadata": {
    "collapsed": true
   },
   "outputs": [],
   "source": [
    "Q = np.zeros((648,648), dtype = np.int32)"
   ]
  },
  {
   "cell_type": "code",
   "execution_count": null,
   "metadata": {
    "collapsed": true
   },
   "outputs": [],
   "source": []
  },
  {
   "cell_type": "code",
   "execution_count": 9,
   "metadata": {
    "collapsed": true
   },
   "outputs": [],
   "source": [
    "# For Equation I\n",
    "\n",
    "for x_index in range(9):\n",
    "    for y_index in range(9):\n",
    "        for z_index1 in range(8):\n",
    "            z2 = np.arange(z_index1 + 1, 8)\n",
    "            z1 = np.empty((len(z2))); z1.fill(z_index1)\n",
    "            x  = np.empty((len(z2))); x.fill(x_index)\n",
    "            y  = np.empty((len(z2))); y.fill(y_index)\n",
    "            \n",
    "            ids1 = unique_id(x, y, z1 )\n",
    "            ids2 = unique_id(x, y, z2 )\n",
    "        \n",
    "            Q_add(Q, ids1, ids2, add_value = 2)\n",
    "            "
   ]
  },
  {
   "cell_type": "code",
   "execution_count": 10,
   "metadata": {},
   "outputs": [
    {
     "name": "stdout",
     "output_type": "stream",
     "text": [
      "The summation of QUBO Q Matrix elements is:  4536\n",
      "\n",
      "The QUBO Matrix: \n",
      "[[0 2 2 ..., 0 0 0]\n",
      " [0 0 2 ..., 0 0 0]\n",
      " [0 0 0 ..., 0 0 0]\n",
      " ..., \n",
      " [0 0 0 ..., 0 2 2]\n",
      " [0 0 0 ..., 0 0 2]\n",
      " [0 0 0 ..., 0 0 0]]\n",
      "\n",
      "Q is an upper triangular matrix: True\n",
      "\n"
     ]
    },
    {
     "data": {
      "image/png": "[encoded data removed]",
      "text/plain": [
       "<matplotlib.figure.Figure at 0x1f837009400>"
      ]
     },
     "metadata": {},
     "output_type": "display_data"
    }
   ],
   "source": [
    "evaluate(Q)"
   ]
  },
  {
   "cell_type": "code",
   "execution_count": null,
   "metadata": {
    "collapsed": true
   },
   "outputs": [],
   "source": []
  },
  {
   "cell_type": "code",
   "execution_count": 11,
   "metadata": {
    "collapsed": true
   },
   "outputs": [],
   "source": [
    "# For Equation IIa\n",
    "\n",
    "for z_index in range(8):\n",
    "    for y_index in range(9):\n",
    "        for x_index1 in range(9):\n",
    "            x2 = np.arange(x_index1 + 1, 9)\n",
    "            x1 = np.empty((len(x2))); x1.fill(x_index1)\n",
    "            y  = np.empty((len(x2))); y.fill(y_index)\n",
    "            z  = np.empty((len(x2))); z.fill(z_index)\n",
    "            \n",
    "            ids1 = unique_id(x1, y, z )\n",
    "            ids2 = unique_id(x2, y, z )\n",
    "        \n",
    "            Q_add(Q, ids1, ids2, add_value =  2)   # Off-diagonal elements\n",
    "            Q_add(Q, ids1, ids1, add_value = -1)   # Diagonal elements\n",
    "            "
   ]
  },
  {
   "cell_type": "code",
   "execution_count": 12,
   "metadata": {},
   "outputs": [
    {
     "name": "stdout",
     "output_type": "stream",
     "text": [
      "The summation of QUBO Q Matrix elements is:  9144\n",
      "\n",
      "The QUBO Matrix: \n",
      "[[-1  2  2 ...,  0  0  0]\n",
      " [ 0 -1  2 ...,  0  0  0]\n",
      " [ 0  0 -1 ...,  0  0  0]\n",
      " ..., \n",
      " [ 0  0  0 ...,  0  2  2]\n",
      " [ 0  0  0 ...,  0  0  2]\n",
      " [ 0  0  0 ...,  0  0  0]]\n",
      "\n",
      "Q is an upper triangular matrix: True\n",
      "\n"
     ]
    },
    {
     "data": {
      "image/png": "[encoded data removed]",
      "text/plain": [
       "<matplotlib.figure.Figure at 0x1f8388dd4a8>"
      ]
     },
     "metadata": {},
     "output_type": "display_data"
    }
   ],
   "source": [
    "evaluate(Q)"
   ]
  },
  {
   "cell_type": "code",
   "execution_count": null,
   "metadata": {
    "collapsed": true
   },
   "outputs": [],
   "source": []
  },
  {
   "cell_type": "code",
   "execution_count": 13,
   "metadata": {
    "collapsed": true
   },
   "outputs": [],
   "source": [
    "# For Equation IIb\n",
    "\n",
    "for z_index in range(8):\n",
    "    for x_index in range(9):\n",
    "        for y_index1 in range(9):\n",
    "            y2 = np.arange(y_index1 + 1, 9)\n",
    "            y1 = np.empty((len(y2))); y1.fill(y_index1)\n",
    "            x  = np.empty((len(y2))); x.fill(x_index)\n",
    "            z  = np.empty((len(y2))); z.fill(z_index)\n",
    "            \n",
    "            ids1 = unique_id(x, y1, z )\n",
    "            ids2 = unique_id(x, y2, z )\n",
    "        \n",
    "            Q_add(Q, ids1, ids2, add_value =  2)   # Off-diagonal elements\n",
    "            Q_add(Q, ids1, ids1, add_value = -1)   # Diagonal elements\n",
    "            "
   ]
  },
  {
   "cell_type": "code",
   "execution_count": 14,
   "metadata": {},
   "outputs": [
    {
     "name": "stdout",
     "output_type": "stream",
     "text": [
      "The summation of QUBO Q Matrix elements is:  13752\n",
      "\n",
      "The QUBO Matrix: \n",
      "[[-2  2  2 ...,  0  0  0]\n",
      " [ 0 -2  2 ...,  0  0  0]\n",
      " [ 0  0 -2 ...,  0  0  0]\n",
      " ..., \n",
      " [ 0  0  0 ...,  0  2  2]\n",
      " [ 0  0  0 ...,  0  0  2]\n",
      " [ 0  0  0 ...,  0  0  0]]\n",
      "\n",
      "Q is an upper triangular matrix: True\n",
      "\n"
     ]
    },
    {
     "data": {
      "image/png": "[encoded data removed]",
      "text/plain": [
       "<matplotlib.figure.Figure at 0x1f83906be48>"
      ]
     },
     "metadata": {},
     "output_type": "display_data"
    }
   ],
   "source": [
    "evaluate(Q)"
   ]
  },
  {
   "cell_type": "code",
   "execution_count": 15,
   "metadata": {
    "collapsed": true
   },
   "outputs": [],
   "source": [
    "# For Equation III\n",
    "\n",
    "for z_index in range(8):\n",
    "    for block_x in range(3):\n",
    "        for block_y in range(3):\n",
    "            x = []; y = []; z = []; ids_diagonal = []; ids_off_diagonal = []\n",
    "            for cell_x in range(3):\n",
    "                for cell_y in range(3):\n",
    "                    \n",
    "                    x.append((3*block_x) + cell_x)\n",
    "                    y.append((3*block_y) + cell_y)\n",
    "                    z.append(z_index)\n",
    "                    \n",
    "            ids = unique_id(x, y, z)\n",
    "            \n",
    "                    \n",
    "            # For on-diagonal elements\n",
    "            for _ in range(len(ids)):\n",
    "                for temp in enumerate(ids[_ + 0:_ + 1], ):\n",
    "                    ids_diagonal.append([ids[_], temp[1]])\n",
    "            ids_diagonal = np.asarray(ids_diagonal)\n",
    "            \n",
    "                    \n",
    "            # For off-diagonal elements\n",
    "            for _ in range(len(ids)):\n",
    "                for temp in enumerate(ids[_ + 1 :], ):\n",
    "                    ids_off_diagonal.append((ids[_], temp[1]))\n",
    "            ids_off_diagonal = np.asarray(ids_off_diagonal)\n",
    "            \n",
    "            \n",
    "            # Making changes to the QUBO Matrix\n",
    "            Q_add(Q, ids_diagonal[:,0], ids_diagonal[:,1], add_value =  -1)         # On-diagonal elements\n",
    "            Q_add(Q, ids_off_diagonal[:,1], ids_off_diagonal[:,1], add_value = 2)   # Off-diagonal elements\n",
    "            "
   ]
  },
  {
   "cell_type": "code",
   "execution_count": 16,
   "metadata": {},
   "outputs": [
    {
     "name": "stdout",
     "output_type": "stream",
     "text": [
      "The summation of QUBO Q Matrix elements is:  14256\n",
      "\n",
      "The QUBO Matrix: \n",
      "[[-3  2  2 ...,  0  0  0]\n",
      " [ 0 -3  2 ...,  0  0  0]\n",
      " [ 0  0 -3 ...,  0  0  0]\n",
      " ..., \n",
      " [ 0  0  0 ...,  1  2  2]\n",
      " [ 0  0  0 ...,  0  1  2]\n",
      " [ 0  0  0 ...,  0  0  1]]\n",
      "\n",
      "Q is an upper triangular matrix: True\n",
      "\n"
     ]
    },
    {
     "data": {
      "image/png": "[encoded data removed]",
      "text/plain": [
       "<matplotlib.figure.Figure at 0x1f836fe64a8>"
      ]
     },
     "metadata": {},
     "output_type": "display_data"
    }
   ],
   "source": [
    "evaluate(Q)"
   ]
  },
  {
   "cell_type": "code",
   "execution_count": null,
   "metadata": {
    "collapsed": true
   },
   "outputs": [],
   "source": []
  },
  {
   "cell_type": "code",
   "execution_count": 17,
   "metadata": {},
   "outputs": [
    {
     "data": {
      "text/plain": [
       "[(1, 1), (2, 2), (3, 3), (4, 4)]"
      ]
     },
     "execution_count": 17,
     "metadata": {},
     "output_type": "execute_result"
    }
   ],
   "source": [
    "# Just an explanation of why we used this to make the ids tuples for III\n",
    "# For on-diagonal elements\n",
    "\n",
    "x = [1,2,3,4]\n",
    "lol = []\n",
    "\n",
    "for _ in range(len(x)):\n",
    "    for y in enumerate(x[_ + 0:_ + 1], ):\n",
    "        lol.append((x[_], y[1]))\n",
    "lol"
   ]
  },
  {
   "cell_type": "code",
   "execution_count": 18,
   "metadata": {},
   "outputs": [
    {
     "data": {
      "text/plain": [
       "[(1, 2), (1, 3), (1, 4), (2, 3), (2, 4), (3, 4)]"
      ]
     },
     "execution_count": 18,
     "metadata": {},
     "output_type": "execute_result"
    }
   ],
   "source": [
    "# Just an explanation of why we used this to make the ids tuples for III\n",
    "# For off-diagonal elements\n",
    "\n",
    "x = [1,2,3,4]\n",
    "lol = []\n",
    "\n",
    "for _ in range(len(x)):\n",
    "    for y in enumerate(x[_ + 1 :], ):\n",
    "        lol.append((x[_], y[1]))\n",
    "lol"
   ]
  },
  {
   "cell_type": "code",
   "execution_count": null,
   "metadata": {
    "collapsed": true
   },
   "outputs": [],
   "source": []
  },
  {
   "cell_type": "code",
   "execution_count": null,
   "metadata": {
    "collapsed": true
   },
   "outputs": [],
   "source": []
  },
  {
   "cell_type": "code",
   "execution_count": 19,
   "metadata": {},
   "outputs": [
    {
     "ename": "FileNotFoundError",
     "evalue": "[Errno 2] No such file or directory: 'C:/Users/Ayush/PNIA Codes/PS Time Codes/test1.txt'",
     "output_type": "error",
     "traceback": [
      "\u001b[1;31m---------------------------------------------------------------------------\u001b[0m",
      "\u001b[1;31mFileNotFoundError\u001b[0m                         Traceback (most recent call last)",
      "\u001b[1;32m<ipython-input-19-04146862be96>\u001b[0m in \u001b[0;36m<module>\u001b[1;34m()\u001b[0m\n\u001b[0;32m      1\u001b[0m \u001b[0mtest_num\u001b[0m \u001b[1;33m=\u001b[0m \u001b[1;36m1\u001b[0m\u001b[1;33m\u001b[0m\u001b[0m\n\u001b[0;32m      2\u001b[0m \u001b[0mcount\u001b[0m \u001b[1;33m=\u001b[0m \u001b[1;36m0\u001b[0m\u001b[1;33m\u001b[0m\u001b[0m\n\u001b[1;32m----> 3\u001b[1;33m \u001b[1;32mwith\u001b[0m \u001b[0mopen\u001b[0m\u001b[1;33m(\u001b[0m\u001b[0mpath\u001b[0m \u001b[1;33m+\u001b[0m \u001b[1;34m\"test\"\u001b[0m \u001b[1;33m+\u001b[0m \u001b[0mstr\u001b[0m\u001b[1;33m(\u001b[0m\u001b[0mtest_num\u001b[0m\u001b[1;33m)\u001b[0m \u001b[1;33m+\u001b[0m \u001b[1;34m\".txt\"\u001b[0m\u001b[1;33m)\u001b[0m \u001b[1;32mas\u001b[0m \u001b[0mtest_file\u001b[0m\u001b[1;33m:\u001b[0m\u001b[1;33m\u001b[0m\u001b[0m\n\u001b[0m\u001b[0;32m      4\u001b[0m     \u001b[1;32mfor\u001b[0m \u001b[0mx\u001b[0m \u001b[1;32min\u001b[0m \u001b[0mrange\u001b[0m\u001b[1;33m(\u001b[0m\u001b[1;36m9\u001b[0m\u001b[1;33m)\u001b[0m\u001b[1;33m:\u001b[0m\u001b[1;33m\u001b[0m\u001b[0m\n\u001b[0;32m      5\u001b[0m         \u001b[1;32mfor\u001b[0m \u001b[0my\u001b[0m \u001b[1;32min\u001b[0m \u001b[0mrange\u001b[0m\u001b[1;33m(\u001b[0m\u001b[1;36m9\u001b[0m\u001b[1;33m)\u001b[0m\u001b[1;33m:\u001b[0m\u001b[1;33m\u001b[0m\u001b[0m\n",
      "\u001b[1;31mFileNotFoundError\u001b[0m: [Errno 2] No such file or directory: 'C:/Users/Ayush/PNIA Codes/PS Time Codes/test1.txt'"
     ]
    }
   ],
   "source": [
    "test_num = 1\n",
    "count = 0\n",
    "with open(path + \"test\" + str(test_num) + \".txt\") as test_file:\n",
    "    for x in range(9):\n",
    "        for y in range(9):\n",
    "            char = test_file.read(1)\n",
    "            if char != \"_\" and char != \"\\n\":\n",
    "                count += 1\n",
    "                z = int(char)\n",
    "                if z != 9:\n",
    "                    ID = unique_id(x,y,z)\n",
    "                    Q_add(Q, ID, ID, add_value = -1 * inf)\n",
    "                elif z == 9:\n",
    "                    z = np.arange(8)\n",
    "                    ones = np.ones(8)\n",
    "                    x = ones * x\n",
    "                    y = ones * y \n",
    "                    \n",
    "                    IDS = unique_id(x,y,z)\n",
    "                    Q_add(Q, IDS, IDS, add_value = inf)\n",
    "            \n",
    "print(\"Loaded the template into the QUBO formulation\")\n",
    "print(\"Count for the number of pre-filled numbers in the template: {}\".format(count))"
   ]
  },
  {
   "cell_type": "code",
   "execution_count": 20,
   "metadata": {},
   "outputs": [
    {
     "name": "stdout",
     "output_type": "stream",
     "text": [
      "The summation of QUBO Q Matrix elements is:  14256\n",
      "\n",
      "The QUBO Matrix: \n",
      "[[-3  2  2 ...,  0  0  0]\n",
      " [ 0 -3  2 ...,  0  0  0]\n",
      " [ 0  0 -3 ...,  0  0  0]\n",
      " ..., \n",
      " [ 0  0  0 ...,  1  2  2]\n",
      " [ 0  0  0 ...,  0  1  2]\n",
      " [ 0  0  0 ...,  0  0  1]]\n",
      "\n",
      "Q is an upper triangular matrix: True\n",
      "\n"
     ]
    },
    {
     "data": {
      "image/png": "[encoded data removed]",
      "text/plain": [
       "<matplotlib.figure.Figure at 0x1f83a033710>"
      ]
     },
     "metadata": {},
     "output_type": "display_data"
    }
   ],
   "source": [
    "evaluate(Q)"
   ]
  },
  {
   "cell_type": "code",
   "execution_count": null,
   "metadata": {
    "collapsed": true
   },
   "outputs": [],
   "source": []
  },
  {
   "cell_type": "code",
   "execution_count": null,
   "metadata": {
    "collapsed": true
   },
   "outputs": [],
   "source": []
  },
  {
   "cell_type": "code",
   "execution_count": 21,
   "metadata": {
    "collapsed": true
   },
   "outputs": [],
   "source": [
    "# Save the QUBO Matrix to file and generate the .qubo file\n",
    "\n",
    "Q = np.asarray(Q)\n",
    "np.save( path + 'Q_matrix', Q)\n",
    "target = 0; target = str(target) + \" \"           # target = 0 indicates topology of an unconstrained problem\n",
    "maxDiagonals = np.shape(Q)[0]; maxDiagonals = str(maxDiagonals) + \" \"  #Indicates the maximum num of diagonals possible ~ equivalent to max no of qubits\n",
    "nDiagonals = 0; nElements = 0\n",
    "\n",
    "for _ in range(np.shape(Q)[0]):\n",
    "    for __ in range(np.shape(Q)[0]):\n",
    "        if Q[_][__] != 0:\n",
    "            if _ == __:\n",
    "                nDiagonals += 1\n",
    "                nElements += 1\n",
    "            else:\n",
    "                nElements += 1\n",
    "            \n",
    "nDiagonals = str(nDiagonals) + \" \"\n",
    "nElements = str(nElements) + \" \"\n",
    "\n",
    "\n",
    "# Find the \"nDiagonals\" clauses and \"nElements\" clauses\n",
    "nDiagonals_clauses = []; nElements_clauses = []\n",
    "for _ in range(np.shape(Q)[0]):\n",
    "    for __ in range(_, np.shape(Q)[0]):\n",
    "        if Q[_][__] != 0:\n",
    "            temp = [str(_) + \" \" + str(__) + \" \" + str(Q[_][__]) + \"\\n\"]\n",
    "            if _ == __:\n",
    "                nDiagonals_clauses.append(temp[0])\n",
    "            else:\n",
    "                nElements_clauses.append(temp[0])\n",
    "                \n",
    "# Compiling the .qubo file\n",
    "with open(path + \"sudoQ.qubo\", \"w\") as qubo_file:\n",
    "    comment_str1 = [\"c This is a QUBO file for solving Sudoku \\n\", \"c  \\n\"]\n",
    "    comment_str2 = [\"c The program 'p' line follows \\n\"]\n",
    "    p_str = [\"p qubo \" + target + maxDiagonals + nDiagonals + nElements + \"\\n\"]\n",
    "    comment_str3 = [\"c The nDiagonals on diagonal couplers follow \\n\"]\n",
    "    nDiagonals_couplers = nDiagonals_clauses\n",
    "    comment_str4 = [\"c The nElements off diagonal couplers follow \\n\"]\n",
    "    nElements_couplers = nElements_clauses\n",
    "    \n",
    "    qubo_file.writelines(comment_str1)\n",
    "    qubo_file.writelines(comment_str2)\n",
    "    qubo_file.writelines(p_str)\n",
    "    qubo_file.writelines(comment_str3)\n",
    "    qubo_file.writelines(nDiagonals_couplers)\n",
    "    qubo_file.writelines(comment_str4)\n",
    "    qubo_file.writelines(nElements_couplers)\n",
    "\n"
   ]
  },
  {
   "cell_type": "code",
   "execution_count": null,
   "metadata": {
    "collapsed": true
   },
   "outputs": [],
   "source": []
  },
  {
   "cell_type": "code",
   "execution_count": 22,
   "metadata": {
    "collapsed": true
   },
   "outputs": [],
   "source": [
    "# Compiling the qubo dictionary according to the qbsolv python package's requirement\n",
    "\n",
    "nDiagonals_clauses = {}; nElements_clauses = {}\n",
    "for _ in range(np.shape(Q)[0]):\n",
    "    for __ in range(_, np.shape(Q)[0]):\n",
    "        if Q[_][__] != 0:\n",
    "            if _ == __:\n",
    "                nDiagonals_clauses[(_, __)] = Q[_][__]\n",
    "            else:\n",
    "                nElements_clauses[(_, __)] = Q[_][__]\n",
    "                \n",
    "qubo = nDiagonals_clauses\n",
    "qubo.update(nElements_clauses)"
   ]
  },
  {
   "cell_type": "code",
   "execution_count": null,
   "metadata": {
    "collapsed": true
   },
   "outputs": [],
   "source": []
  },
  {
   "cell_type": "code",
   "execution_count": 23,
   "metadata": {},
   "outputs": [
    {
     "ename": "ModuleNotFoundError",
     "evalue": "No module named 'dwave_qbsolv'",
     "output_type": "error",
     "traceback": [
      "\u001b[1;31m---------------------------------------------------------------------------\u001b[0m",
      "\u001b[1;31mModuleNotFoundError\u001b[0m                       Traceback (most recent call last)",
      "\u001b[1;32m<ipython-input-23-f56407124ed7>\u001b[0m in \u001b[0;36m<module>\u001b[1;34m()\u001b[0m\n\u001b[0;32m      1\u001b[0m \u001b[1;31m# Solving qubo, getting the solution\u001b[0m\u001b[1;33m\u001b[0m\u001b[1;33m\u001b[0m\u001b[0m\n\u001b[0;32m      2\u001b[0m \u001b[1;33m\u001b[0m\u001b[0m\n\u001b[1;32m----> 3\u001b[1;33m \u001b[1;32mfrom\u001b[0m \u001b[0mdwave_qbsolv\u001b[0m\u001b[1;33m.\u001b[0m\u001b[0mqbsolv_binding\u001b[0m \u001b[1;32mimport\u001b[0m \u001b[0mrun_qbsolv\u001b[0m\u001b[1;33m,\u001b[0m \u001b[0mENERGY_IMPACT\u001b[0m\u001b[1;33m,\u001b[0m \u001b[0mSOLUTION_DIVERSITY\u001b[0m\u001b[1;33m\u001b[0m\u001b[0m\n\u001b[0m\u001b[0;32m      4\u001b[0m \u001b[1;33m\u001b[0m\u001b[0m\n\u001b[0;32m      5\u001b[0m \u001b[0msamples\u001b[0m\u001b[1;33m,\u001b[0m \u001b[0menergies\u001b[0m\u001b[1;33m,\u001b[0m \u001b[0mcounts\u001b[0m \u001b[1;33m=\u001b[0m \u001b[0mrun_qbsolv\u001b[0m\u001b[1;33m(\u001b[0m\u001b[0mQ\u001b[0m\u001b[1;33m=\u001b[0m\u001b[0mqubo\u001b[0m\u001b[1;33m)\u001b[0m\u001b[1;33m\u001b[0m\u001b[0m\n",
      "\u001b[1;31mModuleNotFoundError\u001b[0m: No module named 'dwave_qbsolv'"
     ]
    }
   ],
   "source": [
    "# Solving qubo, getting the solution\n",
    "\n",
    "from dwave_qbsolv.qbsolv_binding import run_qbsolv, ENERGY_IMPACT, SOLUTION_DIVERSITY\n",
    "\n",
    "samples, energies, counts = run_qbsolv(Q=qubo)\n",
    "solution = samples[np.argmin(energies[:])]\n",
    "\n",
    "how_many_qubits_are_1 = 0; ids = []\n",
    "for _ in range(len(solution)):\n",
    "    how_many_qubits_are_1 += solution[_]\n",
    "    ids.append(_)\n",
    "print(how_many_qubits_are_1)\n",
    "\n",
    "xs, ys, zs = xyz_from_id(ids, as_tuple = False)"
   ]
  },
  {
   "cell_type": "code",
   "execution_count": null,
   "metadata": {
    "collapsed": true
   },
   "outputs": [],
   "source": []
  },
  {
   "cell_type": "code",
   "execution_count": null,
   "metadata": {
    "collapsed": true
   },
   "outputs": [],
   "source": []
  },
  {
   "cell_type": "code",
   "execution_count": null,
   "metadata": {
    "collapsed": true
   },
   "outputs": [],
   "source": []
  },
  {
   "cell_type": "code",
   "execution_count": null,
   "metadata": {
    "collapsed": true
   },
   "outputs": [],
   "source": []
  },
  {
   "cell_type": "code",
   "execution_count": null,
   "metadata": {
    "collapsed": true
   },
   "outputs": [],
   "source": []
  },
  {
   "cell_type": "code",
   "execution_count": null,
   "metadata": {
    "collapsed": true
   },
   "outputs": [],
   "source": []
  },
  {
   "cell_type": "code",
   "execution_count": null,
   "metadata": {
    "collapsed": true
   },
   "outputs": [],
   "source": []
  },
  {
   "cell_type": "code",
   "execution_count": null,
   "metadata": {
    "collapsed": true
   },
   "outputs": [],
   "source": []
  }
 ],
 "metadata": {
  "kernelspec": {
   "display_name": "Python 3",
   "language": "python",
   "name": "python3"
  },
  "language_info": {
   "codemirror_mode": {
    "name": "ipython",
    "version": 3
   },
   "file_extension": ".py",
   "mimetype": "text/x-python",
   "name": "python",
   "nbconvert_exporter": "python",
   "pygments_lexer": "ipython3",
   "version": "3.6.1"
  }
 },
 "nbformat": 4,
 "nbformat_minor": 2
}
